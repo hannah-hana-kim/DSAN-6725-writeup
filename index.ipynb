{
  "cells": [
    {
      "cell_type": "raw",
      "metadata": {},
      "source": [
        "---\n",
        "title: 'Our Vision'\n",
        "authors: \n",
        "    - Hannah Kim\n",
        "    - Parsa Keyvani\n",
        "    - Vrunda Hemel Shah\n",
        "sidebar: false\n",
        "format:\n",
        "  html:\n",
        "    embed-resources: false\n",
        "    code-fold: true\n",
        "    \n",
        "execute:\n",
        "  echo: false\n",
        "  warning: false\n",
        "jupyter: python3\n",
        "---"
      ]
    },
    {
      "cell_type": "markdown",
      "metadata": {},
      "source": [
        "## Introduction\n",
        "\n",
        "![casual.ai](images/casual.png)\n",
        "\n",
        "CASUAL.AI is a smart outfit recommendation AI agent. The idea behind CASUAL.AI is to make daily outfit decisions faster and smarter. We wanted to solve an everyday problem: *\"What should I wear today?\"* - and more importantly, *\"What goes well together?\"* \n",
        "\n",
        "People often spend 15–20 minutes each day choosing an outfit, only to second-guess if it fits the occasion or the weather. CASUAL.AI reduces this decision fatigue by acting like a digital personal stylist.\n",
        "\n",
        "It analyzes your wardrobe, the event type, and real-time weather to offer curated outfit suggestions. Over time, it learns from your choices and preferences to make even smarter recommendations.\n",
        "\n",
        "The goal is to help users make better outfit choices by providing personalized recommendations based on their wardrobe, occasions, and the current weather conditions.\n",
        "\n",
        "CASUAL.AI works like a **personalized stylist** that helps users match clothes based on occasion and weather; just like a digital stylist that understands your wardrobe.\n"
      ]
    }
  ],
  "metadata": {
    "kernelspec": {
      "display_name": "Python 3 (ipykernel)",
      "language": "python",
      "name": "python3"
    }
  },
  "nbformat": 4,
  "nbformat_minor": 4
}
