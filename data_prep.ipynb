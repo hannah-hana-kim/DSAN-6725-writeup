{
 "cells": [
  {
   "cell_type": "raw",
   "metadata": {
    "vscode": {
     "languageId": "raw"
    }
   },
   "source": [
    "---\n",
    "title: 'Data Preprocessing'\n",
    "jupyter: python3\n",
    "format: \n",
    "  html:\n",
    "    embed-resources: true \n",
    "---"
   ]
  },
  {
   "cell_type": "markdown",
   "metadata": {},
   "source": [
    "## Data Preprocessing\n",
    "\n",
    "### Changing File Names\n",
    "We changed the filenames for the sake of data integrity and consistency.\n",
    "\n",
    "### Kaggle Dataset\n",
    "![kaggle_pants](./images/15.jpg) \n",
    "![kaggle_shirts](./images/07.jpg) \n",
    "\n",
    "We trained our agent using Kaggle’s clothing dataset, categorized into pants, shorts, shirts, and t-shirts.\n",
    "\n",
    "### Metadata\n",
    "![metadata](./images/metadata.png)\n",
    "\n",
    "We also created metadata manually including color, gender, and sleeve length\n",
    "\n",
    "## Segmentation\n",
    "\n",
    "We applied image segmentation using HuggingFace’s SAM model to remove the background of the images in order to focus only on the clothing items."
   ]
  }
 ],
 "metadata": {
  "kernelspec": {
   "display_name": "base",
   "language": "python",
   "name": "python3"
  },
  "language_info": {
   "name": "python",
   "version": "3.8.16"
  },
  "orig_nbformat": 4
 },
 "nbformat": 4,
 "nbformat_minor": 2
}
