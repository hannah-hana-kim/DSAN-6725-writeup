{
 "cells": [
  {
   "cell_type": "raw",
   "metadata": {
    "vscode": {
     "languageId": "raw"
    }
   },
   "source": [
    "---\n",
    "title: 'Data Preprocessing'\n",
    "jupyter: python3\n",
    "format: \n",
    "  html:\n",
    "    embed-resources: true \n",
    "    code-fold: true\n",
    "---"
   ]
  },
  {
   "cell_type": "markdown",
   "metadata": {},
   "source": [
    "## Data Preprocessing\n",
    "\n",
    "### Changing File Names\n",
    "The file names of the images in the dataset are changed to a more readable format. The original file names are in the format `01.jpg`, `02.jpg`, etc. The new file names are in the format `01_pants.jpg`, `02_pants.jpg`, etc."
   ]
  },
  {
   "cell_type": "code",
   "execution_count": null,
   "metadata": {},
   "outputs": [],
   "source": [
    "%%bash\n",
    "# Rename shorts\n",
    "cd clothes/train/shorts\n",
    "for i in {1..40}; do mv \"$(printf \"%02d\" $i).jpg\" \"$(printf \"%02d\" $i)_shorts.jpg\"; done\n",
    "\n",
    "# Rename pants\n",
    "cd ../pants\n",
    "for i in {1..40}; do mv \"$(printf \"%02d\" $i).jpg\" \"$(printf \"%02d\" $i)_pants.jpg\"; done\n",
    "\n",
    "# Rename shirts\n",
    "cd ../shirts\n",
    "for i in {1..40}; do mv \"$(printf \"%02d\" $i).jpg\" \"$(printf \"%02d\" $i)_shirts.jpg\"; done\n",
    "\n",
    "# Rename t-shirts\n",
    "cd ../t-shirts\n",
    "for i in {1..40}; do mv \"$(printf \"%02d\" $i).jpg\" \"$(printf \"%02d\" $i)_t-shirts.jpg\"; done\n",
    "done"
   ]
  },
  {
   "cell_type": "markdown",
   "metadata": {},
   "source": [
    "### Kaggle Dataset\n",
    "<table>\n",
    "  <tr>\n",
    "    <td style=\"vertical-align:top; width: 50%;\">\n",
    "        <img src=\"./images/15.jpg\" width=\"100%\"><br>\n",
    "    </td>\n",
    "    <td style=\"vertical-align:top; width: 50%;\">\n",
    "        <img src=\"./images/07.jpg\" width=\"100%\"><br>\n",
    "    </td>\n",
    "  </tr>\n",
    "</table>\n",
    "\n",
    "We trained our agent using Kaggle’s clothing dataset, categorized into pants, shorts, shirts, and t-shirts.\n",
    "\n",
    "### Metadata\n",
    "\n",
    "![metadata](images/metadata.png)\n",
    "\n",
    "Metadata includes the following:\n",
    "- File name\n",
    "- Categories: The type of clothing (e.g., pants, shorts, shirts, t-shirts)\n",
    "- Color: The color of the clothing item\n",
    "- Style: The occasion for the clothing item (e.g., casual, formal, sporty)\n",
    "- Gender: The gender for the clothes (e.g., male, female, unisex)\n",
    "- Sleeve length: The length of the sleeves (e.g., short, long, sleeveless)\n",
    "\n",
    "\n"
   ]
  },
  {
   "cell_type": "code",
   "execution_count": 4,
   "metadata": {},
   "outputs": [
    {
     "name": "stdout",
     "output_type": "stream",
     "text": [
      "Converted: pants_01.heic -> pants_01.jpg\n"
     ]
    }
   ],
   "source": [
    "import os\n",
    "from pillow_heif import register_heif_opener\n",
    "from PIL import Image\n",
    "\n",
    "# Register HEIC opener\n",
    "register_heif_opener()\n",
    "\n",
    "# Specify the file path of the HEIC image\n",
    "heic_file = \"images/pants_01.heic\"  # Replace with the actual file path\n",
    "jpg_file = heic_file.rsplit('.', 1)[0] + '.jpg'\n",
    "\n",
    "# Open and convert the image\n",
    "try:\n",
    "    img = Image.open(heic_file)\n",
    "    img.save(jpg_file, \"JPEG\")\n",
    "    print(f\"Converted: {os.path.basename(heic_file)} -> {os.path.basename(jpg_file)}\")\n",
    "except Exception as e:\n",
    "    print(f\"Failed to convert {os.path.basename(heic_file)}: {e}\")"
   ]
  },
  {
   "cell_type": "markdown",
   "metadata": {},
   "source": [
    "### Image Segmentation\n",
    "\n",
    "<table>\n",
    "  <tr>\n",
    "    <td style=\"vertical-align:top; width: 50%;\">\n",
    "        <img src=\"./images/pants_01.jpg\" width=\"100%\"><br>\n",
    "    </td>\n",
    "    <td style=\"vertical-align:top; width: 50%;\">\n",
    "        <img src=\"./images/01_pants.jpg\" width=\"100%\"><br>\n",
    "    </td>\n",
    "  </tr>\n",
    "</table>\n",
    "\n",
    "We used HuggingFace's `segment-anything` library to segment the clothing items in the images. The segmentation masks are saved in a separate folder for each image. The masks are used to create a binary mask for each clothing item, which is then used to train the agent."
   ]
  },
  {
   "cell_type": "code",
   "execution_count": null,
   "metadata": {},
   "outputs": [],
   "source": [
    "from PIL import Image\n",
    "import os\n",
    "\n",
    "_GPU_INDEX = 0\n",
    "\n",
    "example_input_path = \"./clothes/test/pants/01_pants.jpg\"\n",
    "example_dir = \".clothes/test/pants\"\n",
    "\n",
    "os.makedirs(example_dir, exist_ok=True)\n",
    "input_raw = Image.open(example_input_path)\n",
    "\n",
    "# show the input image\n",
    "input_raw_copy = input_raw.copy()\n",
    "input_raw_copy.thumbnail((256, 256))\n",
    "input_raw_copy\n",
    "\n",
    "# initialize the Segment Anything model\n",
    "predictor = sam_init(_GPU_INDEX)\n",
    "\n",
    "# preprocess the input image\n",
    "input_256 = preprocess(predictor, input_raw)\n",
    "input_256\n",
    "\n",
    "import os\n",
    "import torch\n",
    "\n",
    "# GPU Index (Set to 0 if using CUDA, otherwise it'll default to CPU)\n",
    "_GPU_INDEX = 0\n",
    "\n",
    "# Root directory for dataset\n",
    "root_dir = \"./clothes/test\"\n",
    "categories = [\"pants\", \"shirts\", \"shorts\", \"t-shirts\"]\n",
    "\n",
    "# Initialize the Segment Anything Model (SAM)\n",
    "predictor = sam_init(_GPU_INDEX)\n",
    "\n",
    "def preprocess(predictor, raw_im, lower_contrast=False):\n",
    "    \"\"\"Preprocess image using SAM.\"\"\"\n",
    "    raw_im.thumbnail([512, 512], Image.Resampling.LANCZOS)\n",
    "    image_sam = sam_out_nosave(predictor, raw_im.convert(\"RGB\"), pred_bbox(raw_im))\n",
    "    input_256 = image_preprocess_nosave(image_sam, lower_contrast=lower_contrast, rescale=True)\n",
    "    torch.cuda.empty_cache()\n",
    "    return input_256\n",
    "\n",
    "# Iterate through each category (pants, shirt, shorts, t-shirt)\n",
    "for category in categories:\n",
    "    input_folder = os.path.join(root_dir, category)\n",
    "    output_folder = os.path.join(root_dir, f\"{category}_segmented\")\n",
    "\n",
    "    # Create output folder if it doesn't exist\n",
    "    os.makedirs(output_folder, exist_ok=True)\n",
    "\n",
    "    # Process all images in the folder\n",
    "    for filename in os.listdir(input_folder):\n",
    "        if filename.endswith(\".jpg\") or filename.endswith(\".png\"):\n",
    "            image_path = os.path.join(input_folder, filename)\n",
    "            output_path = os.path.join(output_folder, filename)\n",
    "\n",
    "            # Open and process the image\n",
    "            input_raw = Image.open(image_path)\n",
    "            processed_image = preprocess(predictor, input_raw)\n",
    "\n",
    "            # Save processed image\n",
    "            processed_image.save(output_path)\n",
    "            print(f\"Saved: {output_path}\")\n",
    "\n",
    "print(\"All images processed and saved!\")"
   ]
  }
 ],
 "metadata": {
  "kernelspec": {
   "display_name": "base",
   "language": "python",
   "name": "python3"
  },
  "language_info": {
   "codemirror_mode": {
    "name": "ipython",
    "version": 3
   },
   "file_extension": ".py",
   "mimetype": "text/x-python",
   "name": "python",
   "nbconvert_exporter": "python",
   "pygments_lexer": "ipython3",
   "version": "3.11.8"
  },
  "orig_nbformat": 4
 },
 "nbformat": 4,
 "nbformat_minor": 2
}
