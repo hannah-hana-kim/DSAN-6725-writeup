{
  "cells": [
    {
      "cell_type": "raw",
      "metadata": {
        "vscode": {
          "languageId": "raw"
        }
      },
      "source": [
        "---\n",
        "title: RAG\n",
        "format:\n",
        "  html:\n",
        "    embed-resources: true\n",
        "    code-fold: true\n",
        "execute:\n",
        "  echo: true\n",
        "  warning: false\n",
        "jupyter: python3\n",
        "---"
      ]
    },
    {
      "cell_type": "markdown",
      "metadata": {},
      "source": [
        "###  Retrieval Phase\n",
        "\n",
        "The goal of this phase is to **fetch the most contextually appropriate clothing items** from the user's wardrobe. This is achieved using the following components:\n",
        "\n",
        "- **FAISS Index for Similarity Search**:  \n",
        "  We use FAISS to store and quickly retrieve clothing item embeddings. Given a user's query, we use metadata (occasion, temperature, preferences) to search and rank compatible wardrobe items efficiently.\n",
        "\n",
        "- **Weather Tool (OpenWeatherMap API)**:  \n",
        "  To ensure climate-appropriate suggestions, we fetch real-time temperature data based on the user’s city. If no city is specified, we default to Washington, DC. This helps us avoid suggesting winter coats on hot summer days or sleeveless tops in winter.\n",
        "\n",
        "  Below's the snippet of code that we've built to extract any other city from user's prompt. It might not be the most effecient if the user doesn't capitalise the place, however we found it to be a smarter way to use regex to retrieve the desired location.\n",
        "\n",
        "  <img src=\"images/extract_city.png\" alt=\"extract user's city\" width=\"600\">\n",
        "\n",
        "- **Occasion Parser**:  \n",
        "  This tool analyzes the user’s natural language input to determine the dressing context — such as a date, job interview, gym session, or casual hangout. It maps keywords in the prompt to predefined occasion categories.\n",
        "\n",
        "  Below is the function that we've defined to parse the user's message to fetch the 7 categories of occasions.\n",
        "\n",
        "    <img src=\"images/occasion.png\" alt=\"occasion parser\" width=\"600\">\n",
        "\n",
        "- **Preference Parser**:  \n",
        "  Users often express preferences like \"I want to wear a t-shirt, not a shirt.\" The preference parser extracts such constraints to guide wardrobe filtering more accurately.\n",
        "\n",
        "- **Color Combination Dictionary**:  \n",
        "  We maintain a curated color compatibility dictionary where each base color is mapped to visually harmonious options. This ensures that the suggested outfits not only make sense contextually, but also look good together.\n",
        "\n",
        "  Below is the key value pair of colors that we think go well together, hardcoded in the dictionary format.\n",
        "\n",
        "  <img src=\"images/color_combo.png\" alt=\"occasion parser\" width=\"600\">\n",
        "\n",
        "- **Wardrobe Filter**:  \n",
        "  Finally, all the retrieved metadata — including temperature, occasion, preferences, and color constraints — are used to intelligently narrow down the wardrobe to a set of suitable items. These filtered options form the candidate pool for outfit generation.\n",
        "\n",
        "  Below image depicts how the wardrobe filter function ties everything together.\n",
        "\n",
        "  <img src=\"images/wardrobe_filter.png\" alt=\"wardrobe filter\" width=\"600\">\n",
        "\n",
        "\n",
        "###  Generation Phase\n",
        "\n",
        "Once we have the set of filtered and compatible clothing items, we move on to generating the final recommendation using a large language model.\n",
        "\n",
        "- **LLM (Anthropic Claude)**:  \n",
        "  We query the Claude LLM with a structured prompt that includes:\n",
        "  - The user’s situation\n",
        "  - The temperature\n",
        "  - A list of 2–3 outfit combinations (top and bottom)\n",
        "\n",
        "  Claude then:\n",
        "  - Evaluates the **vibe** of each outfit (e.g., chill, sporty, bold)\n",
        "  - Chooses the **most appropriate outfit**\n",
        "  - Returns a casual, human-like explanation, similar to texting a fashion-savvy friend\n",
        "\n",
        "\n",
        "### Why our RAG Setup is Unique\n",
        "\n",
        "Traditional RAG systems retrieve text documents and pass them to an LLM.  \n",
        "Our system, however, retrieves **structured visual and metadata representations of clothing**, enriched with **real-world context** like weather and occasion. This makes the recommendations not just accurate, but **personalized, practical, and stylish**.\n",
        "\n"
      ]
    }
  ],
  "metadata": {
    "kernelspec": {
      "display_name": "Python 3 (ipykernel)",
      "language": "python",
      "name": "python3"
    },
    "language_info": {
      "codemirror_mode": {
        "name": "ipython",
        "version": 3
      },
      "file_extension": ".py",
      "mimetype": "text/x-python",
      "name": "python",
      "nbconvert_exporter": "python",
      "pygments_lexer": "ipython3",
      "version": "3.11.5"
    }
  },
  "nbformat": 4,
  "nbformat_minor": 4
}
